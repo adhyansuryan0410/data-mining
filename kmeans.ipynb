{
 "cells": [
  {
   "cell_type": "code",
   "execution_count": 1,
   "metadata": {},
   "outputs": [],
   "source": [
    "import pandas as pd\n",
    "import matplotlib.pyplot as plt\n",
    "from random import randint\n",
    "from math import sqrt\n",
    "\n",
    "def get_means(df, k):\n",
    "  idx_array = []\n",
    "  for i in range(k):\n",
    "    idx_array.append(randint(0, len(df)-1))\n",
    "  means = []\n",
    "  for i in range(k):\n",
    "    means.append(list(df.loc[idx_array[i],:]))\n",
    "  return means\n",
    "\n",
    "def build_clusters(df, means):\n",
    "  clusters = dict()  \n",
    "  for i in range(len(df)):\n",
    "    cost = 1000\n",
    "    key = 0\n",
    "    point_x, point_y = df.loc[i,'x'], df.loc[i,'y']\n",
    "    # if [point_x, point_y] not in means:\n",
    "    for mean in means:\n",
    "      mean_x, mean_y = mean[0], mean[1]\n",
    "      cost_new = sqrt((point_x - mean_x)**2 + (point_y - mean_y)**2)\n",
    "      if cost_new<cost:\n",
    "        cost = cost_new\n",
    "        key = means.index(mean)\n",
    "    if key in clusters:\n",
    "      clusters[key].append([point_x, point_y])\n",
    "    else:\n",
    "      clusters[key] = [[point_x, point_y]]\n",
    "  return clusters\n",
    "\n",
    "def get_new_means(clusters, means):\n",
    "  new_means = []\n",
    "  flag = False\n",
    "\n",
    "  for key in clusters:\n",
    "    points = clusters[key]\n",
    "    x,y=0,0\n",
    "    for point in points:\n",
    "      x+=point[0]\n",
    "      y+=point[1]\n",
    "    x/=len(points)\n",
    "    y/=len(points)\n",
    "    new_means.append([x,y])\n",
    "    if new_means!=means:\n",
    "      flag = True\n",
    "    else:\n",
    "      flag = False\n",
    "\n",
    "  return new_means, flag\n",
    "\n",
    "def showData(clusters):\n",
    "  dfs = []\n",
    "  colors = ['b', 'r', 'g', 'c', 'm', 'y', 'k']\n",
    "  i=0\n",
    "  for key in clusters:\n",
    "    cluster = clusters[key]\n",
    "    df2 = pd.DataFrame(cluster, columns=['x','y'])\n",
    "    dfs.append(df2)\n",
    "  \n",
    "  for df2 in dfs:\n",
    "    i+=1\n",
    "    x, y = df2['x'], df2['y']\n",
    "    plt.title('Clusters')\n",
    "    plt.scatter(x,y, color=colors[i])\n",
    "    \n",
    "  plt.show()"
   ]
  },
  {
   "cell_type": "code",
   "execution_count": 2,
   "metadata": {},
   "outputs": [
    {
     "name": "stdout",
     "output_type": "stream",
     "text": [
      "    x   y\n",
      "0   2   3\n",
      "1   4   6\n",
      "2  13  15\n",
      "3  12   2\n",
      "4   2  12\n"
     ]
    }
   ],
   "source": [
    "#data visualization\n",
    "\n",
    "df = pd.read_csv('data.csv')\n",
    "print(df.head())"
   ]
  },
  {
   "cell_type": "code",
   "execution_count": 3,
   "metadata": {},
   "outputs": [
    {
     "data": {
      "image/png": "[encoded data removed]",
      "text/plain": [
       "<Figure size 432x288 with 1 Axes>"
      ]
     },
     "metadata": {
      "needs_background": "light"
     },
     "output_type": "display_data"
    }
   ],
   "source": [
    "x = df['x']\n",
    "y = df['y']\n",
    "plt.scatter(x,y)\n",
    "plt.show()"
   ]
  },
  {
   "cell_type": "code",
   "execution_count": 4,
   "metadata": {},
   "outputs": [
    {
     "name": "stdout",
     "output_type": "stream",
     "text": [
      "{1: [[2, 3], [2, 12], [2, 7]], 2: [[4, 6], [4, 7], [5, 9], [3, 12], [7, 4], [5, 7]], 0: [[13, 15], [12, 2], [11, 12], [13, 14], [13, 2], [14, 12], [10, 12], [11, 14], [15, 13], [15, 2], [12, 15]]}\n"
     ]
    }
   ],
   "source": [
    "k = 3\n",
    "no_iters = 3\n",
    "\n",
    "means = get_means(df,k)\n",
    "# means = [[3.375, 7.875], [11.75, 2.5], [12.375, 13.375]] \n",
    "clusters = build_clusters(df, means)\n",
    "print(clusters)"
   ]
  },
  {
   "cell_type": "code",
   "execution_count": 5,
   "metadata": {},
   "outputs": [
    {
     "name": "stdout",
     "output_type": "stream",
     "text": [
      "Cluster 0\n",
      "\n",
      " {1: [[2, 3], [2, 12], [2, 7]], 2: [[4, 6], [4, 7], [5, 9], [3, 12], [7, 4], [5, 7]], 0: [[13, 15], [12, 2], [11, 12], [13, 14], [13, 2], [14, 12], [10, 12], [11, 14], [15, 13], [15, 2], [12, 15]]} \n",
      "\n"
     ]
    },
    {
     "data": {
      "image/png": "[encoded data removed]",
      "text/plain": [
       "<Figure size 432x288 with 1 Axes>"
      ]
     },
     "metadata": {
      "needs_background": "light"
     },
     "output_type": "display_data"
    },
    {
     "name": "stdout",
     "output_type": "stream",
     "text": [
      "Cluster 1\n",
      "\n",
      " {0: [[2, 3], [2, 12], [2, 7], [3, 12]], 1: [[4, 6], [4, 7], [5, 9], [7, 4], [5, 7]], 2: [[13, 15], [12, 2], [11, 12], [13, 14], [13, 2], [14, 12], [10, 12], [11, 14], [15, 13], [15, 2], [12, 15]]} \n",
      "\n"
     ]
    },
    {
     "data": {
      "image/png": "[encoded data removed]",
      "text/plain": [
       "<Figure size 432x288 with 1 Axes>"
      ]
     },
     "metadata": {
      "needs_background": "light"
     },
     "output_type": "display_data"
    },
    {
     "name": "stdout",
     "output_type": "stream",
     "text": [
      "Cluster 2\n",
      "\n",
      " {1: [[2, 3], [4, 6], [4, 7], [5, 9], [7, 4], [5, 7]], 2: [[13, 15], [12, 2], [11, 12], [13, 14], [13, 2], [14, 12], [10, 12], [11, 14], [15, 13], [15, 2], [12, 15]], 0: [[2, 12], [2, 7], [3, 12]]} \n",
      "\n"
     ]
    },
    {
     "data": {
      "image/png": "[encoded data removed]",
      "text/plain": [
       "<Figure size 432x288 with 1 Axes>"
      ]
     },
     "metadata": {
      "needs_background": "light"
     },
     "output_type": "display_data"
    }
   ],
   "source": [
    "for i in range(no_iters):\n",
    "  print('Cluster %d' % (i))\n",
    "  print('\\n',clusters,'\\n')\n",
    "  new_means, flag = get_new_means(clusters, means)\n",
    "  if flag==True and i<no_iters:\n",
    "    means = new_means\n",
    "    clusters = build_clusters(df, new_means)\n",
    "    showData(clusters)\n",
    "  elif flag==False:\n",
    "    print('No new means generated')\n",
    "    break"
   ]
  },
  {
   "cell_type": "code",
   "execution_count": null,
   "metadata": {},
   "outputs": [],
   "source": []
  }
 ],
 "metadata": {
  "kernelspec": {
   "display_name": "Python 3",
   "language": "python",
   "name": "python3"
  },
  "language_info": {
   "codemirror_mode": {
    "name": "ipython",
    "version": 3
   },
   "file_extension": ".py",
   "mimetype": "text/x-python",
   "name": "python",
   "nbconvert_exporter": "python",
   "pygments_lexer": "ipython3",
   "version": "3.8.2"
  }
 },
 "nbformat": 4,
 "nbformat_minor": 4
}
