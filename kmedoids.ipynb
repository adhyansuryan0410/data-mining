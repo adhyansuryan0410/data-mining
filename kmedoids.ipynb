{
 "cells": [
  {
   "cell_type": "code",
   "execution_count": 4,
   "metadata": {},
   "outputs": [],
   "source": [
    "import pandas as pd\n",
    "import matplotlib.pyplot as plt\n",
    "from random import randint\n",
    "\n",
    "def get_medoids(df):\n",
    "  idx = [randint(0, len(df)-1) for i in range(2)]\n",
    "  medoids = [[df.loc[i,'x'], df.loc[i,'y']] for i in idx]\n",
    "  return medoids\n",
    "\n",
    "def createDMatrix(df, medoids):\n",
    "  for medoid in medoids:\n",
    "    idx = medoids.index(medoid)\n",
    "    dissimilarity_matrix = []\n",
    "    for i in range(len(df)):\n",
    "      x = abs(df.iloc[i,0] - medoid[0])\n",
    "      y = abs(df.iloc[i,1] - medoid[1])\n",
    "      dissimilarity_matrix.append(x+y)\n",
    "    df['Dissimilarity C'+str(idx)] = dissimilarity_matrix\n",
    "  return df\n",
    "\n",
    "def buildClusters(df):\n",
    "  clusters = dict()\n",
    "  total_cost = 0\n",
    "  for i in range(len(df)):\n",
    "    cost = min(df.iloc[i,2], df.iloc[i,3])\n",
    "    idx = 1 if(df.iloc[i,2]<df.iloc[i,3]) else 2\n",
    "    total_cost += cost\n",
    "    if(idx in clusters):\n",
    "      clusters[idx].append([[df.iloc[i,0], df.iloc[i,1]]])\n",
    "    else:\n",
    "      clusters[idx] = [[df.iloc[i,0], df.iloc[i,1]]]\n",
    "  return clusters, total_cost\n",
    "\n",
    "def get_new_medoids(medoids, df):\n",
    "  new_medoids = medoids\n",
    "  while True:\n",
    "    med_idx = randint(0, len(medoids)-1)\n",
    "    new_med_idx = randint(0, len(df)-1)\n",
    "    if(medoids[med_idx]!=df.iloc[new_med_idx, [0,1]].tolist()):\n",
    "      new_medoids[med_idx] = df.iloc[new_med_idx, [0,1]].tolist()\n",
    "      break\n",
    "  return new_medoids\n",
    "\n",
    "def get_new_cost(df, medoids, cost):\n",
    "  flag = False\n",
    "  new_medoids = get_new_medoids(medoids, df)\n",
    "  new_df = createDMatrix(df, new_medoids)\n",
    "  new_clusters, new_cost = buildClusters(new_df)\n",
    "\n",
    "  if(new_cost<=cost):\n",
    "    flag = True    \n",
    "  else:\n",
    "    flag = False\n",
    "\n",
    "  return new_medoids, new_clusters, new_df, new_cost, flag"
   ]
  },
  {
   "cell_type": "code",
   "execution_count": 5,
   "metadata": {},
   "outputs": [
    {
     "name": "stdout",
     "output_type": "stream",
     "text": [
      "    x   y\n",
      "0   2   3\n",
      "1   4   6\n",
      "2  13  15\n",
      "3  12   2\n",
      "4   2  12\n"
     ]
    }
   ],
   "source": [
    "#implementation\n",
    "\n",
    "df = pd.read_csv('data.csv')\n",
    "print(df.head())"
   ]
  },
  {
   "cell_type": "code",
   "execution_count": 14,
   "metadata": {},
   "outputs": [
    {
     "name": "stdout",
     "output_type": "stream",
     "text": [
      "Medoids: [[15, 13], [2, 3]] \n",
      "\n",
      "DataFrame:\n",
      "     x   y  Dissimilarity C0  Dissimilarity C1\n",
      "0   2   3                23                 0\n",
      "1   4   6                18                 5\n",
      "2  13  15                 4                23\n",
      "3  12   2                14                11\n",
      "4   2  12                14                 9 \n",
      "\n",
      "Clusters:\n",
      " {2: [[2, 3], [[4, 6]], [[12, 2]], [[2, 12]], [[4, 7]], [[5, 9]], [[2, 7]], [[13, 2]], [[3, 12]], [[7, 4]], [[5, 7]]], 1: [[13, 15], [[11, 12]], [[13, 14]], [[14, 12]], [[10, 12]], [[11, 14]], [[15, 13]], [[15, 2]], [[12, 15]]]} \n",
      "\n",
      "Cost: 120 \n",
      "\n"
     ]
    }
   ],
   "source": [
    "medoids = get_medoids(df)\n",
    "df = createDMatrix(df, medoids)\n",
    "clusters, total_cost = buildClusters(df)\n",
    "print('Medoids:', medoids, '\\n')\n",
    "print('DataFrame:\\n', df.head(), '\\n')\n",
    "print('Clusters:\\n', clusters, '\\n')\n",
    "print('Cost:', total_cost, '\\n')"
   ]
  },
  {
   "cell_type": "code",
   "execution_count": 15,
   "metadata": {},
   "outputs": [
    {
     "name": "stdout",
     "output_type": "stream",
     "text": [
      "New Medoids: [[2, 3], [10, 12]]\n",
      "New Cost: 118\n",
      "Medoids: [[2, 3], [10, 12]]\n",
      "DataFrame:     x   y  Dissimilarity C0  Dissimilarity C1\n",
      "0   2   3                 0                17\n",
      "1   4   6                 5                12\n",
      "2  13  15                23                 6\n",
      "3  12   2                11                12\n",
      "4   2  12                 9                 8\n",
      "Clusters: {1: [[2, 3], [[4, 6]], [[12, 2]], [[4, 7]], [[2, 7]], [[13, 2]], [[15, 2]], [[7, 4]], [[5, 7]]], 2: [[13, 15], [[2, 12]], [[11, 12]], [[13, 14]], [[5, 9]], [[14, 12]], [[10, 12]], [[11, 14]], [[15, 13]], [[3, 12]], [[12, 15]]]}\n",
      "Cost: 118\n",
      "New Medoids: [[11, 12], [15, 13]]\n",
      "New Cost: 156\n",
      "Costly\n"
     ]
    }
   ],
   "source": [
    "flag = True\n",
    "while(flag!=False):\n",
    "  new_medoids = get_new_medoids(medoids, df)\n",
    "  new_medoids, new_clusters, new_df, new_cost, flag = get_new_cost(df, medoids, total_cost)\n",
    "  print('New Medoids:', new_medoids)\n",
    "  print('New Cost:', new_cost)\n",
    "\n",
    "  if flag==False:\n",
    "    print('Costly')\n",
    "    break\n",
    "  else:\n",
    "    medoids = new_medoids\n",
    "    clusters = new_clusters\n",
    "    df = new_df\n",
    "    total_cost = new_cost\n",
    "  print('Medoids:', medoids)\n",
    "  print('DataFrame:', df.head())\n",
    "  print('Clusters:', clusters)\n",
    "  print('Cost:', total_cost)"
   ]
  },
  {
   "cell_type": "code",
   "execution_count": null,
   "metadata": {},
   "outputs": [],
   "source": []
  }
 ],
 "metadata": {
  "kernelspec": {
   "display_name": "Python 3",
   "language": "python",
   "name": "python3"
  },
  "language_info": {
   "codemirror_mode": {
    "name": "ipython",
    "version": 3
   },
   "file_extension": ".py",
   "mimetype": "text/x-python",
   "name": "python",
   "nbconvert_exporter": "python",
   "pygments_lexer": "ipython3",
   "version": "3.8.2"
  }
 },
 "nbformat": 4,
 "nbformat_minor": 4
}
